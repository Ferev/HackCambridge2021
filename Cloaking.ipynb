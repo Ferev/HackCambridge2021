{
 "cells": [
  {
   "cell_type": "code",
   "execution_count": 1,
   "metadata": {},
   "outputs": [
    {
     "name": "stdout",
     "output_type": "stream",
     "text": [
      "WARNING:tensorflow:From /home/user/Git/hc2021/lib/python3.8/site-packages/tensorflow/python/compat/v2_compat.py:96: disable_resource_variables (from tensorflow.python.ops.variable_scope) is deprecated and will be removed in a future version.\n",
      "Instructions for updating:\n",
      "non-resource variables are not supported in the long term\n"
     ]
    }
   ],
   "source": [
    "from fawkes.fawkes.protection import Fawkes\n",
    "from facenet_pytorch import MTCNN\n",
    "import cv2\n",
    "from PIL import ImageDraw\n",
    "import numpy as np\n",
    "import torch\n",
    "from matplotlib import pyplot as plt\n",
    "from tqdm.notebook import tqdm\n",
    "import time\n",
    "import glob\n",
    "from moviepy.editor import *\n",
    "from PIL import Image as Img\n",
    "device = 'cuda' if torch.cuda.is_available() else 'cpu'"
   ]
  },
  {
   "cell_type": "code",
   "execution_count": 2,
   "metadata": {},
   "outputs": [
    {
     "name": "stdout",
     "output_type": "stream",
     "text": [
      "cuda\n"
     ]
    }
   ],
   "source": [
    "# Create face detector\n",
    "mtcnn = MTCNN(margin=20, keep_all=True, post_process=False, device=device)\n",
    "print(device)"
   ]
  },
  {
   "cell_type": "code",
   "execution_count": 3,
   "metadata": {},
   "outputs": [],
   "source": [
    "# # Load a video\n",
    "# v_cap = cv2.VideoCapture('./input.mp4')\n",
    "# v_len = int(v_cap.get(cv2.CAP_PROP_FRAME_COUNT))\n",
    "\n",
    "# destination_name = lambda x: os.path.join('frames', x)\n",
    "\n",
    "# # Loop through video\n",
    "# batch_size = 32\n",
    "# frames = []\n",
    "# boxes = []\n",
    "# landmarks = []\n",
    "# all_frames = []\n",
    "# probs = []\n",
    "# for i in tqdm(range(v_len)):\n",
    "    \n",
    "#     # Load frame\n",
    "#     success, frame = v_cap.read()\n",
    "#     if not success:\n",
    "#         continue\n",
    "#     frame = cv2.cvtColor(frame, cv2.COLOR_BGR2RGB)\n",
    "#     frame = Img.fromarray(frame)\n",
    "#     frame.save(destination_name('img_{}.jpg'.format(i)))\n",
    "    \n",
    "#     # When batch is full, detect faces and reset batch list\n",
    "#     if len(frames) >= batch_size:\n",
    "#         batch_boxes, p, batch_landmarks = mtcnn.detect(frames, landmarks=True)\n",
    "#         boxes.extend(batch_boxes)\n",
    "#         probs.extend(p)\n",
    "#         frames = []"
   ]
  },
  {
   "cell_type": "code",
   "execution_count": null,
   "metadata": {},
   "outputs": [],
   "source": []
  },
  {
   "cell_type": "code",
   "execution_count": 4,
   "metadata": {},
   "outputs": [],
   "source": [
    "image_paths = glob.glob(os.path.join('frames', '*'))\n",
    "image_paths = [path for path in image_paths if \"_cloaked\" not in path.split(\"/\")[-1]]\n",
    "mode = 'high'"
   ]
  },
  {
   "cell_type": "code",
   "execution_count": 5,
   "metadata": {},
   "outputs": [
    {
     "name": "stdout",
     "output_type": "stream",
     "text": [
      "1294\n"
     ]
    }
   ],
   "source": [
    "print(len(image_paths))"
   ]
  },
  {
   "cell_type": "code",
   "execution_count": null,
   "metadata": {},
   "outputs": [
    {
     "name": "stdout",
     "output_type": "stream",
     "text": [
      "Identify 1294 files in the directory\n"
     ]
    }
   ],
   "source": [
    "bsize = 10\n",
    "processor = Fawkes(feature_extractor=\"high_extract\", gpu=0, batch_size=bsize).run_protection(image_paths, mode=mode, th=0.01, sd=1e9, lr=2,\n",
    "        max_step=3,\n",
    "        batch_size=bsize, format='png',\n",
    "        separate_target=True, debug=True, no_align=True)"
   ]
  },
  {
   "cell_type": "code",
   "execution_count": null,
   "metadata": {},
   "outputs": [],
   "source": []
  },
  {
   "cell_type": "code",
   "execution_count": null,
   "metadata": {},
   "outputs": [],
   "source": []
  }
 ],
 "metadata": {
  "kernelspec": {
   "display_name": "hc2021",
   "language": "python",
   "name": "hc2021"
  },
  "language_info": {
   "codemirror_mode": {
    "name": "ipython",
    "version": 3
   },
   "file_extension": ".py",
   "mimetype": "text/x-python",
   "name": "python",
   "nbconvert_exporter": "python",
   "pygments_lexer": "ipython3",
   "version": "3.8.5"
  }
 },
 "nbformat": 4,
 "nbformat_minor": 4
}
