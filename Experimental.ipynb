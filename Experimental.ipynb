{
 "cells": [
  {
   "cell_type": "code",
   "execution_count": 2,
   "metadata": {},
   "outputs": [],
   "source": [
    "from facenet_pytorch import MTCNN\n",
    "import cv2\n",
    "from PIL import ImageDraw, ImageFilter\n",
    "import numpy as np\n",
    "import torch\n",
    "from matplotlib import pyplot as plt\n",
    "from tqdm.notebook import tqdm\n",
    "import time\n",
    "import glob\n",
    "from moviepy.editor import *\n",
    "from PIL import Image as Img\n",
    "device = 'cuda' if torch.cuda.is_available() else 'cpu'"
   ]
  },
  {
   "cell_type": "code",
   "execution_count": 3,
   "metadata": {},
   "outputs": [
    {
     "name": "stdout",
     "output_type": "stream",
     "text": [
      "cuda\n"
     ]
    }
   ],
   "source": [
    "# Create face detector\n",
    "mtcnn = MTCNN(margin=20, keep_all=True, post_process=False, device=device)\n",
    "print(device)"
   ]
  },
  {
   "cell_type": "code",
   "execution_count": 4,
   "metadata": {},
   "outputs": [
    {
     "data": {
      "application/vnd.jupyter.widget-view+json": {
       "model_id": "74ff97643e5c47a584ccec59abf0df88",
       "version_major": 2,
       "version_minor": 0
      },
      "text/plain": [
       "  0%|          | 0/1294 [00:00<?, ?it/s]"
      ]
     },
     "metadata": {},
     "output_type": "display_data"
    }
   ],
   "source": [
    "# Load a video\n",
    "v_cap = cv2.VideoCapture('./input.mp4')\n",
    "v_len = int(v_cap.get(cv2.CAP_PROP_FRAME_COUNT))\n",
    "\n",
    "# Loop through video\n",
    "batch_size = 32\n",
    "frames = []\n",
    "boxes = []\n",
    "landmarks = []\n",
    "all_frames = []\n",
    "probs = []\n",
    "for _ in tqdm(range(v_len)):\n",
    "    \n",
    "    # Load frame\n",
    "    success, frame = v_cap.read()\n",
    "    if not success:\n",
    "        continue\n",
    "        \n",
    "    # Add to batch, resizing for speed\n",
    "    frame = cv2.cvtColor(frame, cv2.COLOR_BGR2RGB)\n",
    "    all_frames.append(frame)\n",
    "    frame = Img.fromarray(frame)\n",
    "    frames.append(frame)\n",
    "    \n",
    "    \n",
    "    # When batch is full, detect faces and reset batch list\n",
    "    if len(frames) >= batch_size:\n",
    "        batch_boxes, p, batch_landmarks = mtcnn.detect(frames, landmarks=True)\n",
    "        boxes.extend(batch_boxes)\n",
    "        probs.extend(p)\n",
    "        frames = []"
   ]
  },
  {
   "cell_type": "code",
   "execution_count": 5,
   "metadata": {},
   "outputs": [],
   "source": [
    "frame_ = all_frames[0].copy()\n",
    "im = Img.fromarray(frame_)\n",
    "draw = ImageDraw.Draw(im)\n",
    "for box in boxes[0]:\n",
    "    draw.rectangle(box.tolist(), outline=(255, 0, 0), width=6)\n",
    "im.show()"
   ]
  },
  {
   "cell_type": "code",
   "execution_count": 6,
   "metadata": {},
   "outputs": [
    {
     "name": "stdout",
     "output_type": "stream",
     "text": [
      "1280\n"
     ]
    }
   ],
   "source": [
    "print(len(boxes))"
   ]
  },
  {
   "cell_type": "code",
   "execution_count": 7,
   "metadata": {},
   "outputs": [
    {
     "data": {
      "text/plain": [
       "25"
      ]
     },
     "execution_count": 7,
     "metadata": {},
     "output_type": "execute_result"
    }
   ],
   "source": [
    "fps = int(v_cap.get(cv2.CAP_PROP_FPS))\n",
    "fps"
   ]
  },
  {
   "cell_type": "code",
   "execution_count": 8,
   "metadata": {},
   "outputs": [
    {
     "data": {
      "text/plain": [
       "11512"
      ]
     },
     "execution_count": 8,
     "metadata": {},
     "output_type": "execute_result"
    }
   ],
   "source": [
    "from sys import getsizeof\n",
    "getsizeof(all_frames)"
   ]
  },
  {
   "cell_type": "code",
   "execution_count": 9,
   "metadata": {},
   "outputs": [
    {
     "data": {
      "application/vnd.jupyter.widget-view+json": {
       "model_id": "34b080b68b2345759f42dc1d225c1784",
       "version_major": 2,
       "version_minor": 0
      },
      "text/plain": [
       "  0%|          | 0/1294 [00:00<?, ?it/s]"
      ]
     },
     "metadata": {},
     "output_type": "display_data"
    }
   ],
   "source": [
    "# Draw Faces\n",
    "frames_with_faces = []\n",
    "\n",
    "for ix in tqdm(range(len(all_frames))):\n",
    "    frame_draw = all_frames[ix]\n",
    "    frame_draw = Img.fromarray(frame_draw)\n",
    "    draw = ImageDraw.Draw(frame_draw)\n",
    "    try:\n",
    "        for box in boxes[ix]:\n",
    "            \n",
    "            mask = Img.new('L', im.size)  # set color value 0 -> 255\n",
    "            d = ImageDraw.Draw(mask)\n",
    "            d.rectangle(box.tolist(), fill=255)\n",
    "            blur = frame_draw.filter(ImageFilter.GaussianBlur(radius=15))\n",
    "            frame_draw = Img.composite(blur, frame_draw, mask)\n",
    "    except TypeError as e:\n",
    "        pass\n",
    "    except IndexError as e:\n",
    "        pass\n",
    "    frames_with_faces.append(frame_draw)\n",
    "        "
   ]
  },
  {
   "cell_type": "code",
   "execution_count": 10,
   "metadata": {},
   "outputs": [
    {
     "name": "stdout",
     "output_type": "stream",
     "text": [
      "1294\n"
     ]
    }
   ],
   "source": [
    "print(len(frames_with_faces))"
   ]
  },
  {
   "cell_type": "code",
   "execution_count": 11,
   "metadata": {},
   "outputs": [],
   "source": [
    "del all_frames\n",
    "del boxes"
   ]
  },
  {
   "cell_type": "code",
   "execution_count": 12,
   "metadata": {},
   "outputs": [
    {
     "data": {
      "application/vnd.jupyter.widget-view+json": {
       "model_id": "0851b17b87ad48c19914cf14ead918fc",
       "version_major": 2,
       "version_minor": 0
      },
      "text/plain": [
       "  0%|          | 0/1294 [00:00<?, ?it/s]"
      ]
     },
     "metadata": {},
     "output_type": "display_data"
    }
   ],
   "source": [
    "writer = cv2.VideoWriter('final_temp.mp4', cv2.VideoWriter_fourcc(*'MJPG'), fps, (1280,720))\n",
    "for i in tqdm(range(len(frames_with_faces))):\n",
    "    img = cv2.cvtColor(np.array(frames_with_faces[i]).astype('uint8'),cv2.COLOR_BGR2RGB)\n",
    "    writer.write(img)\n",
    "writer.release()"
   ]
  },
  {
   "cell_type": "code",
   "execution_count": 13,
   "metadata": {},
   "outputs": [
    {
     "name": "stdout",
     "output_type": "stream",
     "text": [
      "Moviepy - Building video out2.mp4.\n",
      "MoviePy - Writing audio in out2TEMP_MPY_wvf_snd.mp3\n"
     ]
    },
    {
     "name": "stderr",
     "output_type": "stream",
     "text": [
      "                                                                     \r"
     ]
    },
    {
     "name": "stdout",
     "output_type": "stream",
     "text": [
      "MoviePy - Done.\n",
      "Moviepy - Writing video out2.mp4\n",
      "\n"
     ]
    },
    {
     "name": "stderr",
     "output_type": "stream",
     "text": [
      "                                                                \r"
     ]
    },
    {
     "name": "stdout",
     "output_type": "stream",
     "text": [
      "Moviepy - Done !\n",
      "Moviepy - video ready out2.mp4\n"
     ]
    }
   ],
   "source": [
    "videoOUT = VideoFileClip('final_temp.mp4')\n",
    "audio = VideoFileClip('input.mp4').audio\n",
    "videoOUT = videoOUT.set_audio(audio)\n",
    "videoOUT.write_videofile('out2.mp4', fps=fps)"
   ]
  },
  {
   "cell_type": "code",
   "execution_count": null,
   "metadata": {},
   "outputs": [],
   "source": []
  },
  {
   "cell_type": "code",
   "execution_count": null,
   "metadata": {},
   "outputs": [],
   "source": []
  }
 ],
 "metadata": {
  "kernelspec": {
   "display_name": "hc2021",
   "language": "python",
   "name": "hc2021"
  },
  "language_info": {
   "codemirror_mode": {
    "name": "ipython",
    "version": 3
   },
   "file_extension": ".py",
   "mimetype": "text/x-python",
   "name": "python",
   "nbconvert_exporter": "python",
   "pygments_lexer": "ipython3",
   "version": "3.8.5"
  }
 },
 "nbformat": 4,
 "nbformat_minor": 4
}
